{
  "nbformat": 4,
  "nbformat_minor": 0,
  "metadata": {
    "colab": {
      "provenance": [],
      "authorship_tag": "ABX9TyPf9PkRzRfVJPQS2CbhuCRr",
      "include_colab_link": true
    },
    "kernelspec": {
      "name": "python3",
      "display_name": "Python 3"
    },
    "language_info": {
      "name": "python"
    }
  },
  "cells": [
    {
      "cell_type": "markdown",
      "metadata": {
        "id": "view-in-github",
        "colab_type": "text"
      },
      "source": [
        "<a href=\"https://colab.research.google.com/github/KoliaUS/F7PMIPSMB-S/blob/main/Ceabin_uloha1.ipynb\" target=\"_parent\"><img src=\"https://colab.research.google.com/assets/colab-badge.svg\" alt=\"Open In Colab\"/></a>"
      ]
    },
    {
      "cell_type": "code",
      "execution_count": 2,
      "metadata": {
        "colab": {
          "base_uri": "https://localhost:8080/"
        },
        "id": "RKYgOEZtJ_gp",
        "outputId": "628918cd-cb2f-4533-ffff-354146ad16a5"
      },
      "outputs": [
        {
          "output_type": "stream",
          "name": "stdout",
          "text": [
            "                                                name  \\\n",
            "0    Ethyl 2-amino-3-(3,4-dihydroxyphenyl)propanoate   \n",
            "1  (S)-Methyl 2-amino-3-(3,4-dihydroxyphenyl)prop...   \n",
            "2                                        Etilevodopa   \n",
            "3                                        Foslevodopa   \n",
            "4                                         Melevodopa   \n",
            "\n",
            "                                  smiles  \\\n",
            "0         CCOC(=O)C(CC1=CC(=C(C=C1)O)O)N   \n",
            "1       COC(=O)C(CC1=CC(=C(C=C1)O)O)N.Cl   \n",
            "2         CCOC(=O)C(CC1=CC(=C(C=C1)O)O)N   \n",
            "3  C1=CC(=C(C=C1CC(C(=O)O)N)O)OP(=O)(O)O   \n",
            "4          COC(=O)C(CC1=CC(=C(C=C1)O)O)N   \n",
            "\n",
            "                                              pubmed  \n",
            "0  https://pubchem.ncbi.nlm.nih.gov/compound/1179...  \n",
            "1  https://pubchem.ncbi.nlm.nih.gov/compound/1013...  \n",
            "2   https://pubchem.ncbi.nlm.nih.gov/compound/170345  \n",
            "3   https://pubchem.ncbi.nlm.nih.gov/compound/127766  \n",
            "4    https://pubchem.ncbi.nlm.nih.gov/compound/23497  \n"
          ]
        }
      ],
      "source": [
        "import pandas as pd\n",
        "\n",
        "\n",
        "# Načtení datasetu\n",
        "df = pd.read_csv('/content/compounds.csv', delimiter=';')\n",
        "\n",
        "# Extrakce sloupce s SMILES řetězci\n",
        "smiles_list = df['smiles'].tolist()\n",
        "\n",
        "print(df.head())"
      ]
    },
    {
      "cell_type": "code",
      "source": [
        "!pip install rdkit-pypi"
      ],
      "metadata": {
        "colab": {
          "base_uri": "https://localhost:8080/"
        },
        "id": "ix5s-7WlKsZu",
        "outputId": "9103dfdb-9729-417b-d337-be32d00d2862"
      },
      "execution_count": 5,
      "outputs": [
        {
          "output_type": "stream",
          "name": "stdout",
          "text": [
            "Collecting rdkit-pypi\n",
            "  Downloading rdkit_pypi-2022.9.5-cp311-cp311-manylinux_2_17_x86_64.manylinux2014_x86_64.whl.metadata (3.9 kB)\n",
            "Requirement already satisfied: numpy in /usr/local/lib/python3.11/dist-packages (from rdkit-pypi) (1.26.4)\n",
            "Requirement already satisfied: Pillow in /usr/local/lib/python3.11/dist-packages (from rdkit-pypi) (11.1.0)\n",
            "Downloading rdkit_pypi-2022.9.5-cp311-cp311-manylinux_2_17_x86_64.manylinux2014_x86_64.whl (29.4 MB)\n",
            "\u001b[2K   \u001b[90m━━━━━━━━━━━━━━━━━━━━━━━━━━━━━━━━━━━━━━━━\u001b[0m \u001b[32m29.4/29.4 MB\u001b[0m \u001b[31m38.9 MB/s\u001b[0m eta \u001b[36m0:00:00\u001b[0m\n",
            "\u001b[?25hInstalling collected packages: rdkit-pypi\n",
            "Successfully installed rdkit-pypi-2022.9.5\n"
          ]
        }
      ]
    },
    {
      "cell_type": "code",
      "source": [
        "from rdkit import Chem\n",
        "from rdkit.Chem import AllChem\n",
        "\n",
        "# Převod SMILES řetězců na molekuly v RDKit\n",
        "molecules = [Chem.MolFromSmiles(smiles) for smiles in smiles_list]\n",
        "\n",
        "# Výpočet Morgan fingerprintů pro každou molekulu\n",
        "fingerprints = [AllChem.GetMorganFingerprintAsBitVect(mol, 2, nBits=1024) for mol in molecules]"
      ],
      "metadata": {
        "id": "Js_ZbiO9LM4F"
      },
      "execution_count": 6,
      "outputs": []
    },
    {
      "cell_type": "code",
      "source": [
        "from rdkit import DataStructs\n",
        "\n",
        "# Definice referenční sloučeniny (Levodopa)\n",
        "reference_smiles = \"C1=CC(=C(C=C1CC(C(=O)O)N)O)O\"\n",
        "reference_mol = Chem.MolFromSmiles(reference_smiles)\n",
        "reference_fp = AllChem.GetMorganFingerprintAsBitVect(reference_mol, 2, nBits=1024)\n",
        "\n",
        "# Výpočet Tanimoto podobnosti pro každou sloučeninu\n",
        "tanimoto_similarities = [DataStructs.TanimotoSimilarity(reference_fp, fp) for fp in fingerprints]\n",
        "\n",
        "# Přidání skóre podobnosti do dataframe\n",
        "df['Tanimoto Similarity'] = tanimoto_similarities\n",
        "\n",
        "# Zobrazení dataframe s skóre podobnosti\n",
        "print(df)"
      ],
      "metadata": {
        "colab": {
          "base_uri": "https://localhost:8080/"
        },
        "id": "7PAGMukTLobJ",
        "outputId": "22935331-f45c-449d-cc90-5a9b342ae4fa"
      },
      "execution_count": 7,
      "outputs": [
        {
          "output_type": "stream",
          "name": "stdout",
          "text": [
            "                                                name  \\\n",
            "0    Ethyl 2-amino-3-(3,4-dihydroxyphenyl)propanoate   \n",
            "1  (S)-Methyl 2-amino-3-(3,4-dihydroxyphenyl)prop...   \n",
            "2                                        Etilevodopa   \n",
            "3                                        Foslevodopa   \n",
            "4                                         Melevodopa   \n",
            "5                                    L-DOPA (sodium)   \n",
            "6                      Tyrosine, 3-hydroxy-O-methyl-   \n",
            "7                                  3-Methoxytyrosine   \n",
            "\n",
            "                                  smiles  \\\n",
            "0         CCOC(=O)C(CC1=CC(=C(C=C1)O)O)N   \n",
            "1       COC(=O)C(CC1=CC(=C(C=C1)O)O)N.Cl   \n",
            "2         CCOC(=O)C(CC1=CC(=C(C=C1)O)O)N   \n",
            "3  C1=CC(=C(C=C1CC(C(=O)O)N)O)OP(=O)(O)O   \n",
            "4          COC(=O)C(CC1=CC(=C(C=C1)O)O)N   \n",
            "5      C1=CC(=C(C=C1CC(C(=O)O)N)O)O.[Na]   \n",
            "6          COC1=C(C=C(C=C1)CC(C(=O)O)N)O   \n",
            "7          COC1=C(C=CC(=C1)CC(C(=O)O)N)O   \n",
            "\n",
            "                                              pubmed  Tanimoto Similarity  \n",
            "0  https://pubchem.ncbi.nlm.nih.gov/compound/1179...             0.657143  \n",
            "1  https://pubchem.ncbi.nlm.nih.gov/compound/1013...             0.657143  \n",
            "2   https://pubchem.ncbi.nlm.nih.gov/compound/170345             0.657143  \n",
            "3   https://pubchem.ncbi.nlm.nih.gov/compound/127766             0.631579  \n",
            "4    https://pubchem.ncbi.nlm.nih.gov/compound/23497             0.676471  \n",
            "5  https://pubchem.ncbi.nlm.nih.gov/compound/1386...             0.964286  \n",
            "6  https://pubchem.ncbi.nlm.nih.gov/compound/1340...             0.666667  \n",
            "7  https://pubchem.ncbi.nlm.nih.gov/compound/1670...             0.666667  \n"
          ]
        }
      ]
    },
    {
      "cell_type": "code",
      "source": [
        "# Seřazení dataframe podle Tanimoto podobnosti (sestupně)\n",
        "df_sorted = df.sort_values(by='Tanimoto Similarity', ascending=False)\n",
        "\n",
        "# Zobrazení top 3 sloučenin\n",
        "top_3_hits = df_sorted.head(3)\n",
        "print(top_3_hits)"
      ],
      "metadata": {
        "colab": {
          "base_uri": "https://localhost:8080/"
        },
        "id": "zd3lEbM1LtiN",
        "outputId": "6cb4ccbb-f44b-4fca-862e-81c522ee76c2"
      },
      "execution_count": 8,
      "outputs": [
        {
          "output_type": "stream",
          "name": "stdout",
          "text": [
            "                            name                             smiles  \\\n",
            "5                L-DOPA (sodium)  C1=CC(=C(C=C1CC(C(=O)O)N)O)O.[Na]   \n",
            "4                     Melevodopa      COC(=O)C(CC1=CC(=C(C=C1)O)O)N   \n",
            "6  Tyrosine, 3-hydroxy-O-methyl-      COC1=C(C=C(C=C1)CC(C(=O)O)N)O   \n",
            "\n",
            "                                              pubmed  Tanimoto Similarity  \n",
            "5  https://pubchem.ncbi.nlm.nih.gov/compound/1386...             0.964286  \n",
            "4    https://pubchem.ncbi.nlm.nih.gov/compound/23497             0.676471  \n",
            "6  https://pubchem.ncbi.nlm.nih.gov/compound/1340...             0.666667  \n"
          ]
        }
      ]
    }
  ]
}